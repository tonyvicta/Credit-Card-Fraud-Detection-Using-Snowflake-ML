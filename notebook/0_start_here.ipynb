{
 "cells": [
  {
   "cell_type": "markdown",
   "id": "1a79b0ca-5934-402f-ab57-e19b080b3eb1",
   "metadata": {
    "collapsed": false,
    "name": "Introduction"
   },
   "source": [
    "# Credit Card Fraud Detection: Harnessing the Power of Machine Learning in Snowflake ML\n",
    "\n",
    "Credit card fraud is a significant concern in the digital age, where billions of transactions occur daily across the globe. Detecting fraudulent activities quickly and accurately is paramount to safeguarding both consumers and financial institutions. Machine learning (ML) has emerged as a powerful tool in the fight against credit card fraud, offering sophisticated methods to identify suspicious activities in real-time.\n",
    "\n",
    "The Challenge of Fraud Detection\n",
    "Credit card fraud can take various forms, including unauthorized transactions, account takeovers, and synthetic identity fraud. Traditional rule-based systems, which rely on predefined patterns and thresholds, often fall short in detecting new and evolving fraud schemes. These systems can also generate a high number of false positives, leading to unnecessary transaction declines and customer dissatisfaction.\n",
    "\n",
    "In this demo we will be walking through a use case where the ML Capabilities of the Snowflake Data Cloud will be leveraged for investigating the past transactions.\n",
    "Snowflake ML Classification function offers automated predictions and data insights using machine learning. All you need to provide is your data and it doesn't require time series as well. The Machine learning model enables users to sort data into different classes using patterns detected within the training data. \n",
    "\n",
    "\n"
   ]
  },
  {
   "cell_type": "markdown",
   "id": "b4df2cd0-0c87-434f-88f2-0ac7bb1c65d0",
   "metadata": {
    "collapsed": false,
    "name": "Select_Packages"
   },
   "source": [
    "## Import Libraries\n",
    "\n",
    "To get started, let's select a few packages that we will need. In the **Packages** drop-down picker in the top right of the UI, search for and add the following packages by clicking on them:\n",
    "\n",
    "- snowflake-ml-python\n",
    "\n",
    "Once you add the packages, click the **Start** button! Once it says **Active**, you're ready to run the rest of the Notebook. In the below cell import necessary Python packages and set up a Snowflake session.\n",
    "\n",
    "### Snowflake ML Feature Store\n",
    "A Python SDK for defining, registering, retrieving, and managing features.\n",
    "\n",
    "Entity: Entities are the underlying objects that features and feature views are associated with. They encapsulate the join keys used for feature lookups. \n",
    "\n",
    "FeatureView: A feature view is a group of logically-related features that are refreshed on the same schedule.\n"
   ]
  },
  {
   "cell_type": "code",
   "execution_count": null,
   "id": "60a1cf24-eebb-4367-935b-af7b70180cbf",
   "metadata": {
    "collapsed": false,
    "language": "python",
    "name": "import_libs"
   },
   "outputs": [],
   "source": [
    "# Import python packages\n",
    "import streamlit as st\n",
    "import pandas as pd\n",
    "from snowflake.snowpark import Window\n",
    "from snowflake.snowpark.functions import *\n",
    "# Retrieves the active Snowflake session\n",
    "\n",
    "from snowflake.snowpark.context import get_active_session\n",
    "session = get_active_session()\n",
    "session.query_tag = {\"origin\":\"sf_sit-is\", \n",
    "                     \"name\":\"credit_card_fraud\", \n",
    "                     \"version\":{\"major\":1, \"minor\":0},\n",
    "                     \"attributes\":{\"is_quickstart\":1, \"source\":\"notebook\"}}\n",
    "\n",
    "\n",
    "from snowflake.snowpark import functions as F\n",
    "from snowflake.ml.feature_store import (\n",
    "FeatureStore,\n",
    "FeatureView,\n",
    "Entity,\n",
    "CreationMode\n",
    ")\n",
    "from snowflake.ml.utils.connection_params import SnowflakeLoginOptions\n"
   ]
  },
  {
   "cell_type": "markdown",
   "id": "0aca9c4a-cf51-4086-b7af-82bd138aa6c1",
   "metadata": {
    "collapsed": false,
    "name": "create_objects"
   },
   "source": [
    "Set up the necessary database objects and warehouses  "
   ]
  },
  {
   "cell_type": "code",
   "execution_count": null,
   "id": "12212d31-5373-4391-972d-1bf8060a8f7b",
   "metadata": {
    "collapsed": false,
    "language": "python",
    "name": "create_db"
   },
   "outputs": [],
   "source": [
    "session.sql(\"USE ROLE SYSADMIN\").collect()\n",
    "session.sql(\"CREATE DATABASE IF NOT EXISTS CC_FINS_DB\").collect()\n",
    "session.sql(\"USE database CC_FINS_DB\").collect()\n",
    "\n",
    "session.sql(\"CREATE SCHEMA IF NOT EXISTS ANALYTICS\").collect()\n",
    "session.sql(\"CREATE WAREHOUSE if not exists CC_FINS_WH\").collect()\n"
   ]
  },
  {
   "cell_type": "markdown",
   "id": "77a4b8c5-aeaf-4d90-88f0-d154b3fe3395",
   "metadata": {
    "collapsed": false,
    "name": "set_variable"
   },
   "source": [
    "Set variables. This is primarily to create a separate role for a Feature Store consumer and producer. For the sake of simplicity we will be considering the same role,SYSADMIN in this case for the producer and consumer."
   ]
  },
  {
   "cell_type": "code",
   "execution_count": null,
   "id": "385be51b-161c-498f-b8ad-e71feeb11af1",
   "metadata": {
    "collapsed": false,
    "language": "sql",
    "name": "set_variables"
   },
   "outputs": [],
   "source": [
    "USE ROLE ACCOUNTADMIN;\n",
    "SET FS_ROLE_PRODUCER = 'SYSADMIN';\n",
    "SET FS_ROLE_CONSUMER = 'SYSADMIN';\n",
    "SET FS_DATABASE = 'CC_FINS_DB';\n",
    "SET FS_SCHEMA = 'ANALYTICS';\n",
    "SET SCHEMA_FQN = CONCAT($FS_DATABASE, '.', $FS_SCHEMA);\n",
    "SET FS_WAREHOUSE = 'CC_FINS_WH';\n",
    "SET MR_DEMO_DB='CC_FINS_DB';\n",
    "\n",
    "-- Create roles\n",
    "\n",
    "CREATE SCHEMA IF NOT EXISTS IDENTIFIER($FS_SCHEMA);\n",
    "\n"
   ]
  },
  {
   "cell_type": "markdown",
   "id": "c419f7dc-9779-45a4-bf31-b00823e6bd17",
   "metadata": {
    "collapsed": false,
    "name": "Feature_Store_definition"
   },
   "source": [
    "Create a new Feature Store by specifying database and schema. Note that we also configure a default_warehouse to be used with the Feature Store. "
   ]
  },
  {
   "cell_type": "code",
   "execution_count": null,
   "id": "7703c60e-00bb-422d-a1ed-d958f91a83b7",
   "metadata": {
    "collapsed": false,
    "language": "python",
    "name": "FS_init"
   },
   "outputs": [],
   "source": [
    "session.sql('USE ROLE SYSADMIN').collect()\n",
    "session.sql('USE WAREHOUSE CC_FINS_WH').collect()\n",
    "session.sql('USE SCHEMA ANALYTICS').collect()\n",
    "\n",
    "FS1=FeatureStore(\n",
    "session=session,\n",
    "database=\"CC_FINS_DB\",\n",
    "    name=\"ANALYTICS\",\n",
    "    default_warehouse=\"CC_FINS_WH\",\n",
    "    creation_mode=CreationMode.CREATE_IF_NOT_EXIST)"
   ]
  },
  {
   "cell_type": "code",
   "execution_count": null,
   "id": "bbd90f43-d633-41b3-b159-ac8ff91856a4",
   "metadata": {
    "collapsed": false,
    "language": "python",
    "name": "set_context"
   },
   "outputs": [],
   "source": [
    "session.sql(\"USE ROLE SYSADMIN\").collect()\n",
    "session.sql(\"USE DATABASE CC_FINS_DB\").collect()\n",
    "session.sql(\"USE SCHEMA ANALYTICS\").collect()"
   ]
  },
  {
   "cell_type": "markdown",
   "id": "8016d110-b2d7-4595-8469-b889553f0d26",
   "metadata": {
    "collapsed": false,
    "name": "Print_schema"
   },
   "source": [
    "Print the schema"
   ]
  },
  {
   "cell_type": "code",
   "execution_count": null,
   "id": "16f4e2ae-a48a-4883-b9c3-f6cfe90fc982",
   "metadata": {
    "collapsed": false,
    "language": "python",
    "name": "print_schema"
   },
   "outputs": [],
   "source": [
    "# Current Environment Details\n",
    "print('Connection Established with the following parameters:')\n",
    "print('User      : {}'.format(session.get_current_user()))\n",
    "print('Role      : {}'.format(session.get_current_role()))\n",
    "print('Database  : {}'.format(session.get_current_database()))\n",
    "print('Schema    : {}'.format(session.get_current_schema()))\n",
    "print('Warehouse : {}'.format(session.get_current_warehouse()))"
   ]
  },
  {
   "cell_type": "markdown",
   "id": "5ec1c1b6-e261-4dae-b841-4b5f0fd0f871",
   "metadata": {
    "collapsed": false,
    "name": "load_data"
   },
   "source": [
    "The following cell performs a couple of actions: \n",
    "\n",
    "1. Create a file format named CSVFORMAT.\n",
    "2. Create a stage named CREDITCARD_TRANSACTIONS\n",
    "3. The stage points to the external storage where the credit card transactions dataset is stored.\n",
    "4. Lists the contents of the CREDITCARD_TRANSACTIONS stage."
   ]
  },
  {
   "cell_type": "code",
   "execution_count": null,
   "id": "8b1c63b0-21b7-4362-b57f-353d519d6e76",
   "metadata": {
    "collapsed": false,
    "language": "sql",
    "name": "read_from_Stage"
   },
   "outputs": [],
   "source": [
    "-- Create csv format\n",
    "\n",
    "CREATE FILE FORMAT IF NOT EXISTS CSVFORMAT \n",
    "    SKIP_HEADER = 1 \n",
    "    TYPE = 'CSV';\n",
    "\n",
    "CREATE STAGE IF NOT EXISTS CREDITCARD_TRANSACTIONS\n",
    "    FILE_FORMAT =  CSVFORMAT  \n",
    "    URL = 's3://sfquickstarts/sfguide_credit_card_fraud_detection_using_snowflakeml/fraud_detection_dataset.csv';\n",
    "-- Inspect content of stage\n",
    "LS @CREDITCARD_TRANSACTIONS;\n"
   ]
  },
  {
   "cell_type": "markdown",
   "id": "6d1087c9-821c-4da4-b0a7-af0b513c2bfe",
   "metadata": {
    "collapsed": false,
    "name": "read_data"
   },
   "source": [
    "Read the CSV file from the Snowflake stage, create a DataFrame from it, and then write this DataFrame to a Snowflake table. "
   ]
  },
  {
   "cell_type": "code",
   "execution_count": null,
   "id": "8d50cbf4-0c8d-4950-86cb-114990437ac9",
   "metadata": {
    "collapsed": false,
    "language": "python",
    "name": "read_Transactions"
   },
   "outputs": [],
   "source": [
    "# Create a Snowpark DataFrame that is configured to load data from the CSV file\n",
    "# We can now infer schema from CSV files.\n",
    "transactions_df = session.read.options({\"field_delimiter\": \",\",\n",
    "                                    \"field_optionally_enclosed_by\": '\"',\n",
    "                                    \"infer_schema\": True,\n",
    "                                    \"parse_header\": True}).csv(\"@CREDITCARD_TRANSACTIONS\")\n",
    "\n",
    "transactions_df.write.mode('overwrite').save_as_table('CREDITCARD_TRANSACTIONS')\n",
    "\n",
    "transactions_df.show()\n"
   ]
  },
  {
   "cell_type": "markdown",
   "id": "b16b7f2e-e223-435f-a125-30505399ea95",
   "metadata": {
    "collapsed": false,
    "name": "Feature_Engineering"
   },
   "source": [
    "Generate various features related to user spending patterns. These features include weekly, monthly, and yearly spending, as well as transactional statistics that can be used for further analysis or machine learning tasks such as fraud detection. "
   ]
  },
  {
   "cell_type": "code",
   "execution_count": null,
   "id": "2c3f6409-ae3c-4cbe-b260-1d3812c49683",
   "metadata": {
    "codeCollapsed": false,
    "collapsed": false,
    "language": "sql",
    "name": "Generate_Customer_Features"
   },
   "outputs": [],
   "source": [
    "WITH \n",
    "weekly_spending AS (\n",
    "    SELECT\n",
    "        USER_ID,\n",
    "        DATE_TRUNC('week',TO_TIMESTAMP(TRANSACTION_DATE,'MM/DD/YY HH24:MI')) AS week,\n",
    "        SUM(TRANSACTION_AMOUNT) AS total_spent_wk\n",
    "    FROM\n",
    "        CREDITCARD_TRANSACTIONS\n",
    "    GROUP BY\n",
    "        USER_ID,\n",
    "        DATE_TRUNC('week',TO_TIMESTAMP(TRANSACTION_DATE,'MM/DD/YY HH24:MI'))\n",
    "),\n",
    "mean_weekly_spending AS (\n",
    "    SELECT\n",
    "        USER_ID,\n",
    "        AVG(total_spent_wk) AS mean_weekly_spent\n",
    "    FROM\n",
    "        weekly_spending\n",
    "    GROUP BY\n",
    "        USER_ID\n",
    "),\n",
    "monthly_spending AS (\n",
    "    SELECT\n",
    "        USER_ID,\n",
    "        DATE_TRUNC('month',TO_TIMESTAMP(TRANSACTION_DATE,'MM/DD/YY HH24:MI')) AS month,\n",
    "        SUM(TRANSACTION_AMOUNT) AS total_spent\n",
    "    FROM\n",
    "        CREDITCARD_TRANSACTIONS\n",
    "    GROUP BY\n",
    "        USER_ID,\n",
    "        DATE_TRUNC('month',TO_TIMESTAMP(TRANSACTION_DATE,'MM/DD/YY HH24:MI'))\n",
    "),\n",
    "mean_monthly_spending AS (\n",
    "    SELECT\n",
    "        USER_ID,\n",
    "        AVG(total_spent) AS mean_monthly_spent\n",
    "    FROM\n",
    "        monthly_spending\n",
    "    GROUP BY\n",
    "        USER_ID\n",
    "),\n",
    "yearly_spending AS (\n",
    "    SELECT\n",
    "        USER_ID,\n",
    "        DATE_TRUNC('year',TO_TIMESTAMP(TRANSACTION_DATE,'MM/DD/YY HH24:MI')) AS month,\n",
    "        SUM(TRANSACTION_AMOUNT) AS total_spent_yr\n",
    "    FROM\n",
    "        CREDITCARD_TRANSACTIONS\n",
    "    GROUP BY\n",
    "        USER_ID,\n",
    "        DATE_TRUNC('year',TO_TIMESTAMP(TRANSACTION_DATE,'MM/DD/YY HH24:MI'))\n",
    "),\n",
    "mean_yearly_spending AS (\n",
    "    SELECT\n",
    "        USER_ID,\n",
    "        AVG(total_spent_yr) AS mean_yearly_spent\n",
    "    FROM\n",
    "        yearly_spending\n",
    "    GROUP BY\n",
    "        USER_ID\n",
    "),\n",
    "features AS (\n",
    "    SELECT\n",
    "        USER_ID,\n",
    "        COUNT(TRANSACTION_ID) AS total_transactions,\n",
    "        AVG(TRANSACTION_AMOUNT) AS avg_per_transaction_amount,\n",
    "        STDDEV(TRANSACTION_AMOUNT) AS stddev_transaction_amount,\n",
    "        COUNT(DISTINCT MERCHANT) AS num_unique_merchants,\n",
    "        round(COUNT(TRANSACTION_ID) / COUNT(DISTINCT DATE_TRUNC('month',TO_TIMESTAMP(TRANSACTION_DATE,'MM/DD/YY HH24:MI')),0)) AS transactions_per_month,\n",
    "        COUNT(CASE WHEN IS_FRAUD = 1 THEN 1 END) * 1.0 / COUNT(TRANSACTION_ID) AS fraud_rate\n",
    "    FROM\n",
    "        CREDITCARD_TRANSACTIONS\n",
    "    GROUP BY\n",
    "        USER_ID\n",
    ")\n",
    "SELECT\n",
    "    DISTINCT cc.USER_ID,total_transactions,avg_per_transaction_amount,stddev_transaction_amount,num_unique_merchants,\n",
    "    ROUND(mws.mean_weekly_spent,2) as mean_weekly_spent,\n",
    "    ROUND(mms.mean_monthly_spent,2) as mean_monthly_spent,\n",
    "    ROUND(mys.mean_yearly_spent,2) as mean_yearly_spent\n",
    "FROM\n",
    "    CREDITCARD_TRANSACTIONS cc\n",
    "    JOIN features fs ON cc.USER_ID = fs.User_ID\n",
    "    JOIN mean_monthly_spending mms ON cc.USER_ID = mms.User_ID\n",
    "    JOIN mean_yearly_spending mys ON cc.USER_ID = mys.User_ID\n",
    "    JOIN mean_weekly_spending mws ON cc.USER_ID = mws.User_ID;\n"
   ]
  },
  {
   "cell_type": "markdown",
   "id": "0bf0e6c8-64a6-482d-af3e-4ad31f4c3fe1",
   "metadata": {
    "collapsed": false,
    "name": "Generatedf"
   },
   "source": [
    "Generating a DataFrame of customer features, saving it as a table in Snowflake"
   ]
  },
  {
   "cell_type": "code",
   "execution_count": null,
   "id": "dba49059-a276-4f07-807d-cda044952fa4",
   "metadata": {
    "collapsed": false,
    "language": "python",
    "name": "cust_features"
   },
   "outputs": [],
   "source": [
    "cust_spdf=Generate_Customer_Features.to_df()\n",
    "\n",
    "cust_spdf.write.mode('overwrite').save_as_table('customer_features')\n",
    "cust_sdf=session.sql(\"select * from customer_features\")\n"
   ]
  },
  {
   "cell_type": "code",
   "execution_count": null,
   "id": "7a144ed6-9f66-4727-a9a2-13d2744d64ee",
   "metadata": {
    "collapsed": false,
    "language": "python",
    "name": "cust_spdf"
   },
   "outputs": [],
   "source": [
    "cust_sdf.show()"
   ]
  },
  {
   "cell_type": "markdown",
   "id": "77222502-b138-48ab-b6b0-e9280e6ca7ae",
   "metadata": {
    "collapsed": false,
    "name": "Generate_transaction_metrics"
   },
   "source": [
    "Generate cumulative behavioral metrics for users based on their transaction data, such as cumulative clicks and cumulative logins per hour. It involves the use of window functions and joins to combine and transform data from the CREDITCARD_TRANSACTIONS table. "
   ]
  },
  {
   "cell_type": "code",
   "execution_count": null,
   "id": "73b2cbc3-0e45-4988-a912-99d18aa3b415",
   "metadata": {
    "collapsed": false,
    "language": "sql",
    "name": "Generate_Transaction_Features"
   },
   "outputs": [],
   "source": [
    "WITH cumulative_behavior AS (\n",
    "    SELECT\n",
    "        USER_ID,\n",
    "        SESSION_ID,\n",
    "        TRANSACTION_DATE,\n",
    "        SUM(CLICKS) OVER (PARTITION BY USER_ID ORDER BY TRANSACTION_DATE RANGE BETWEEN UNBOUNDED PRECEDING AND CURRENT ROW) AS cumulative_clicks,\n",
    "        SUM(LOGIN_PER_HOUR) OVER (PARTITION BY USER_ID ORDER BY TRANSACTION_DATE RANGE BETWEEN UNBOUNDED PRECEDING AND CURRENT ROW) AS cumulative_logins_per_hour\n",
    "    FROM CREDITCARD_TRANSACTIONS\n",
    "),\n",
    "unique_transactions AS (\n",
    "    SELECT DISTINCT\n",
    "        USER_ID,\n",
    "        SESSION_ID,\n",
    "        TRANSACTION_DATE,\n",
    "        TRANSACTION_ID,\n",
    "        TIME_ELAPSED,\n",
    "        CLICKS,\n",
    "        LOCATION,\n",
    "        LATITUDE,\n",
    "        LONGITUDE\n",
    "    FROM CREDITCARD_TRANSACTIONS\n",
    ")\n",
    "SELECT\n",
    "    ut.SESSION_ID,\n",
    "    ut.TRANSACTION_DATE,\n",
    "    ut.TIME_ELAPSED,\n",
    "    ut.CLICKS,\n",
    "    ut.TRANSACTION_ID,\n",
    "    ut.LOCATION,\n",
    "    ut.LATITUDE,\n",
    "    ut.LONGITUDE,\n",
    "    cb.cumulative_clicks,\n",
    "    cb.cumulative_logins_per_hour\n",
    "FROM\n",
    "    unique_transactions ut\n",
    "    JOIN cumulative_behavior cb ON ut.USER_ID = cb.USER_ID \n",
    "    AND ut.SESSION_ID = cb.SESSION_ID\n",
    "    AND ut.TRANSACTION_DATE = cb.TRANSACTION_DATE\n",
    "ORDER BY\n",
    "    ut.TRANSACTION_ID;\n"
   ]
  },
  {
   "cell_type": "code",
   "execution_count": null,
   "id": "ac4f62d1-d0ef-41d5-b1ca-8b9fce7cb4d5",
   "metadata": {
    "collapsed": false,
    "language": "python",
    "name": "transdf_tospdf"
   },
   "outputs": [],
   "source": [
    "trans_df=Generate_Transaction_Features.to_df()\n",
    "\n",
    "trans_df.write.mode('overwrite').save_as_table('transaction_features')\n",
    "trans_sdf=session.sql(\"select * from transaction_features\")"
   ]
  },
  {
   "cell_type": "code",
   "execution_count": null,
   "id": "33db7e54-2de0-4053-82ec-a764450a2bf5",
   "metadata": {
    "collapsed": false,
    "language": "python",
    "name": "transdf_show"
   },
   "outputs": [],
   "source": [
    "trans_df.show()"
   ]
  },
  {
   "cell_type": "markdown",
   "id": "34f3e7ca-2615-405d-b3df-890f4ccf63e4",
   "metadata": {
    "collapsed": false,
    "name": "Feature_Store"
   },
   "source": [
    "An entity is an abstraction over a set of primary keys used for looking up feature data. An Entity represents a real-world \"thing\" that has data associated with it. Below cell registers an entity for Customer and Transaction in Feature Store"
   ]
  },
  {
   "cell_type": "code",
   "execution_count": null,
   "id": "3fbe1758-4c9b-4ff2-99b3-b8be6a67afe3",
   "metadata": {
    "collapsed": false,
    "language": "python",
    "name": "Feature_Entity"
   },
   "outputs": [],
   "source": [
    "\n",
    "# Snowflake Feature Store requires an \"entity\" with \"join_keys\" be registered\n",
    "customer_entity = Entity(name=\"UserId1\", join_keys=[\"USER_ID\"])\n",
    "FS1.register_entity(customer_entity)\n",
    "\n",
    "transaction_entity = Entity(name=\"transId1\", join_keys=[\"TRANSACTION_ID\"])\n",
    "FS1.register_entity(transaction_entity)\n"
   ]
  },
  {
   "cell_type": "markdown",
   "id": "7ad94579-6063-406b-9a9b-f2bbe54b94e3",
   "metadata": {
    "collapsed": false,
    "name": "Feature_entities_list"
   },
   "source": [
    "List the Feature entities"
   ]
  },
  {
   "cell_type": "code",
   "execution_count": null,
   "id": "c0e9a1c2-d663-47f1-bf1d-16a96bc2b588",
   "metadata": {
    "collapsed": false,
    "language": "python",
    "name": "list_entites"
   },
   "outputs": [],
   "source": [
    "FS1.list_entities().show(15)"
   ]
  },
  {
   "cell_type": "markdown",
   "id": "7fe55df6-5512-4333-8b67-61c916d093d3",
   "metadata": {
    "collapsed": false,
    "name": "Feature_Views"
   },
   "source": [
    "# Using Feature Views\n",
    "The FeatureView constructor accepts a Snowpark DataFrame that contains the feature generation logic. The provided DataFrame must contain the join_keys columns specified in the entities associated with the feature view, in this case it would be the customer and transactions"
   ]
  },
  {
   "cell_type": "code",
   "execution_count": null,
   "id": "3a146311-376d-4df4-9cff-eb9e019eda62",
   "metadata": {
    "collapsed": false,
    "language": "python",
    "name": "Cust_FeaturesView"
   },
   "outputs": [],
   "source": [
    "managed_fv = FeatureView(\n",
    "    name=\"Customer_Features\",\n",
    "    entities = [customer_entity],\n",
    "    feature_df=cust_sdf,\n",
    "    overwrite=True\n",
    ")\n",
    "registered_fv = FS1.register_feature_view(\n",
    "    feature_view=managed_fv,\n",
    "    version=\"V9\"\n",
    ")"
   ]
  },
  {
   "cell_type": "code",
   "execution_count": null,
   "id": "a9ed39d5-7eb7-4c9a-adba-afeda35717ba",
   "metadata": {
    "collapsed": false,
    "language": "python",
    "name": "Trans_FeatureView"
   },
   "outputs": [],
   "source": [
    "managed_fv = FeatureView(\n",
    "    name=\"Trans_Features\",\n",
    "    entities = [transaction_entity],\n",
    "    feature_df=trans_sdf,\n",
    "    overwrite=True\n",
    "    \n",
    ")\n",
    "\n",
    "registered_fv = FS1.register_feature_view(\n",
    "    feature_view=managed_fv,\n",
    "    version=\"V9\"\n",
    ")"
   ]
  },
  {
   "cell_type": "markdown",
   "id": "7ccbe701-f52c-4c2d-b4b0-ee8dc9320009",
   "metadata": {
    "collapsed": false,
    "name": "endofnb"
   },
   "source": [
    "This completes the setup for the Database objects and Feature Store Producer workflow. The data and the features which have been generated is available for the consumer with appropritate privileges. Time to head on to the next notebook!"
   ]
  }
 ],
 "metadata": {
  "kernelspec": {
   "display_name": "Streamlit Notebook",
   "name": "streamlit"
  }
 },
 "nbformat": 4,
 "nbformat_minor": 5
}
